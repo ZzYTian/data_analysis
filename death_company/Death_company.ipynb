{
 "cells": [
  {
   "cell_type": "markdown",
   "id": "39a3c631-1c41-4500-9064-17b99c11fc97",
   "metadata": {},
   "source": [
    "# **关于倒闭企业数据集的数据分析**"
   ]
  },
  {
   "cell_type": "code",
   "execution_count": 1,
   "id": "7c03c160-5e33-44fa-9ef9-1a28529980b9",
   "metadata": {},
   "outputs": [],
   "source": [
    "# 导入模块\n",
    "import pandas as pd\n",
    "\n",
    "from pyecharts import options as opts\n",
    "from pyecharts.charts import Map\n",
    "from pyecharts.charts import Bar\n",
    "from pyecharts.faker import Faker\n",
    "from pyecharts.charts import Pie\n",
    "from pyecharts.charts import WordCloud\n",
    "from pyecharts.globals import SymbolType\n",
    "\n",
    "import matplotlib.pyplot as plt\n",
    "import seaborn as sns\n",
    "import datetime\n",
    "\n",
    "from IPython.display import IFrame\n",
    "\n",
    "import warnings\n",
    "warnings.filterwarnings(\"ignore\")\n"
   ]
  },
  {
   "cell_type": "markdown",
   "id": "ec1074cd-a6e0-4c68-9943-14048839ac72",
   "metadata": {},
   "source": [
    "## **读取数据**"
   ]
  },
  {
   "cell_type": "code",
   "execution_count": 2,
   "id": "7b2a6f61-6b3f-47ef-a2c4-72c8e050d673",
   "metadata": {},
   "outputs": [
    {
     "data": {
      "text/plain": [
       "(6272, 16)"
      ]
     },
     "execution_count": 2,
     "metadata": {},
     "output_type": "execute_result"
    }
   ],
   "source": [
    "data = pd.read_csv('com_1.csv')\n",
    "data.shape"
   ]
  },
  {
   "cell_type": "code",
   "execution_count": 3,
   "id": "a97da533-ed29-4219-b529-dc734bc3ef4e",
   "metadata": {},
   "outputs": [
    {
     "data": {
      "text/html": [
       "<div>\n",
       "<style scoped>\n",
       "    .dataframe tbody tr th:only-of-type {\n",
       "        vertical-align: middle;\n",
       "    }\n",
       "\n",
       "    .dataframe tbody tr th {\n",
       "        vertical-align: top;\n",
       "    }\n",
       "\n",
       "    .dataframe thead th {\n",
       "        text-align: right;\n",
       "    }\n",
       "</style>\n",
       "<table border=\"1\" class=\"dataframe\">\n",
       "  <thead>\n",
       "    <tr style=\"text-align: right;\">\n",
       "      <th></th>\n",
       "      <th>bianh</th>\n",
       "      <th>com_name</th>\n",
       "      <th>com_addr</th>\n",
       "      <th>cat</th>\n",
       "      <th>se_cat</th>\n",
       "      <th>com_des</th>\n",
       "      <th>born_data</th>\n",
       "      <th>death_data</th>\n",
       "      <th>live_days</th>\n",
       "      <th>financing</th>\n",
       "      <th>total_money</th>\n",
       "      <th>death_reason</th>\n",
       "      <th>invest_name</th>\n",
       "      <th>ceo_name</th>\n",
       "      <th>ceo_des</th>\n",
       "      <th>ceo_per_des</th>\n",
       "    </tr>\n",
       "  </thead>\n",
       "  <tbody>\n",
       "    <tr>\n",
       "      <th>0</th>\n",
       "      <td>1</td>\n",
       "      <td>麦子金服</td>\n",
       "      <td>上海市</td>\n",
       "      <td>金融</td>\n",
       "      <td>借贷</td>\n",
       "      <td>麦子金服是一家移动互联网金融服务集团，为个人和企业提供包括财富管理、股权投资、投融资咨询等综...</td>\n",
       "      <td>2015/3/1</td>\n",
       "      <td>2019/11/25</td>\n",
       "      <td>1730</td>\n",
       "      <td>B轮</td>\n",
       "      <td>90000.0</td>\n",
       "      <td>政策监管 法律法规风险</td>\n",
       "      <td>海通开元&amp;中缔资本</td>\n",
       "      <td>黄大容</td>\n",
       "      <td>董事长</td>\n",
       "      <td>黄大容，80后，经济学硕士，精通中英德三国语言。连续创业者，23岁创立第一家公司，25岁涉足...</td>\n",
       "    </tr>\n",
       "    <tr>\n",
       "      <th>1</th>\n",
       "      <td>1</td>\n",
       "      <td>拓道金服</td>\n",
       "      <td>浙江省</td>\n",
       "      <td>金融</td>\n",
       "      <td>借贷</td>\n",
       "      <td>拓道金服是一家专注于汽车抵押贷款这一细分市场的P2P互联网金融公司。拓道金服通过互联网民间的...</td>\n",
       "      <td>2013/11/1</td>\n",
       "      <td>2019/11/24</td>\n",
       "      <td>2214</td>\n",
       "      <td>A轮</td>\n",
       "      <td>8000.0</td>\n",
       "      <td>政策监管 法律法规风险</td>\n",
       "      <td>蓝山中国资本&amp;帮实资本&amp;宏桥资本</td>\n",
       "      <td>张罗军</td>\n",
       "      <td>创始人</td>\n",
       "      <td>杭州拓道科技有限公司执行董事兼总经理，重庆邮电学院计算机专业，创立杭州仁润科技有限公司，具有...</td>\n",
       "    </tr>\n",
       "    <tr>\n",
       "      <th>2</th>\n",
       "      <td>1</td>\n",
       "      <td>云柏科技</td>\n",
       "      <td>广东省</td>\n",
       "      <td>医疗健康</td>\n",
       "      <td>医疗器械及硬件</td>\n",
       "      <td>云柏科技是一家智能健康检测腕表研发商，专注于智能可穿戴设备领域。主要产品包括可穿戴式多功能云...</td>\n",
       "      <td>2014/9/1</td>\n",
       "      <td>2019/11/1</td>\n",
       "      <td>1887</td>\n",
       "      <td>尚未获投</td>\n",
       "      <td>NaN</td>\n",
       "      <td>行业竞争</td>\n",
       "      <td>NaN</td>\n",
       "      <td>NaN</td>\n",
       "      <td>NaN</td>\n",
       "      <td>NaN</td>\n",
       "    </tr>\n",
       "    <tr>\n",
       "      <th>3</th>\n",
       "      <td>1</td>\n",
       "      <td>迷你生鲜</td>\n",
       "      <td>福建省</td>\n",
       "      <td>电子商务</td>\n",
       "      <td>生鲜食品</td>\n",
       "      <td>迷你生鲜是一家会员制水果生鲜电商网站，平台产品由基地直供，采购深入全国及东南亚各地区，减少中...</td>\n",
       "      <td>2017/11/1</td>\n",
       "      <td>2019/10/29</td>\n",
       "      <td>727</td>\n",
       "      <td>尚未获投</td>\n",
       "      <td>NaN</td>\n",
       "      <td>现金流断裂 行业竞争</td>\n",
       "      <td>NaN</td>\n",
       "      <td>NaN</td>\n",
       "      <td>NaN</td>\n",
       "      <td>NaN</td>\n",
       "    </tr>\n",
       "    <tr>\n",
       "      <th>4</th>\n",
       "      <td>1</td>\n",
       "      <td>一生健康</td>\n",
       "      <td>北京市</td>\n",
       "      <td>医疗健康</td>\n",
       "      <td>寻医诊疗</td>\n",
       "      <td>微爱康一款基于移动互联网的癌症患者互助型垂直社区产品，通过在线社会化问答和类轻博客交流模式，...</td>\n",
       "      <td>2015/1/1</td>\n",
       "      <td>2019/10/17</td>\n",
       "      <td>1750</td>\n",
       "      <td>尚未获投</td>\n",
       "      <td>NaN</td>\n",
       "      <td>政策监管 法律法规风险</td>\n",
       "      <td>NaN</td>\n",
       "      <td>张耀斌</td>\n",
       "      <td>CEO</td>\n",
       "      <td>张耀斌，为一生（北京）健康科技有限公司的创始人。</td>\n",
       "    </tr>\n",
       "  </tbody>\n",
       "</table>\n",
       "</div>"
      ],
      "text/plain": [
       "   bianh com_name com_addr   cat   se_cat  \\\n",
       "0      1     麦子金服      上海市    金融       借贷   \n",
       "1      1     拓道金服      浙江省    金融       借贷   \n",
       "2      1     云柏科技      广东省  医疗健康  医疗器械及硬件   \n",
       "3      1     迷你生鲜      福建省  电子商务     生鲜食品   \n",
       "4      1     一生健康      北京市  医疗健康     寻医诊疗   \n",
       "\n",
       "                                             com_des  born_data  death_data  \\\n",
       "0  麦子金服是一家移动互联网金融服务集团，为个人和企业提供包括财富管理、股权投资、投融资咨询等综...   2015/3/1  2019/11/25   \n",
       "1  拓道金服是一家专注于汽车抵押贷款这一细分市场的P2P互联网金融公司。拓道金服通过互联网民间的...  2013/11/1  2019/11/24   \n",
       "2  云柏科技是一家智能健康检测腕表研发商，专注于智能可穿戴设备领域。主要产品包括可穿戴式多功能云...   2014/9/1   2019/11/1   \n",
       "3  迷你生鲜是一家会员制水果生鲜电商网站，平台产品由基地直供，采购深入全国及东南亚各地区，减少中...  2017/11/1  2019/10/29   \n",
       "4  微爱康一款基于移动互联网的癌症患者互助型垂直社区产品，通过在线社会化问答和类轻博客交流模式，...   2015/1/1  2019/10/17   \n",
       "\n",
       "   live_days financing  total_money death_reason       invest_name ceo_name  \\\n",
       "0       1730        B轮      90000.0  政策监管 法律法规风险         海通开元&中缔资本      黄大容   \n",
       "1       2214        A轮       8000.0  政策监管 法律法规风险  蓝山中国资本&帮实资本&宏桥资本      张罗军   \n",
       "2       1887      尚未获投          NaN         行业竞争               NaN      NaN   \n",
       "3        727      尚未获投          NaN   现金流断裂 行业竞争               NaN      NaN   \n",
       "4       1750      尚未获投          NaN  政策监管 法律法规风险               NaN      张耀斌   \n",
       "\n",
       "  ceo_des                                        ceo_per_des  \n",
       "0     董事长  黄大容，80后，经济学硕士，精通中英德三国语言。连续创业者，23岁创立第一家公司，25岁涉足...  \n",
       "1     创始人  杭州拓道科技有限公司执行董事兼总经理，重庆邮电学院计算机专业，创立杭州仁润科技有限公司，具有...  \n",
       "2     NaN                                                NaN  \n",
       "3     NaN                                                NaN  \n",
       "4     CEO                           张耀斌，为一生（北京）健康科技有限公司的创始人。  "
      ]
     },
     "execution_count": 3,
     "metadata": {},
     "output_type": "execute_result"
    }
   ],
   "source": [
    "data.head()"
   ]
  },
  {
   "cell_type": "code",
   "execution_count": 4,
   "id": "74342c6f-7c44-477e-b1e7-65d7a274b0c2",
   "metadata": {
    "scrolled": true
   },
   "outputs": [
    {
     "name": "stdout",
     "output_type": "stream",
     "text": [
      "<class 'pandas.core.frame.DataFrame'>\n",
      "RangeIndex: 6272 entries, 0 to 6271\n",
      "Data columns (total 16 columns):\n",
      " #   Column        Non-Null Count  Dtype  \n",
      "---  ------        --------------  -----  \n",
      " 0   bianh         6272 non-null   int64  \n",
      " 1   com_name      6272 non-null   object \n",
      " 2   com_addr      6272 non-null   object \n",
      " 3   cat           6272 non-null   object \n",
      " 4   se_cat        6271 non-null   object \n",
      " 5   com_des       6271 non-null   object \n",
      " 6   born_data     6272 non-null   object \n",
      " 7   death_data    6272 non-null   object \n",
      " 8   live_days     6272 non-null   int64  \n",
      " 9   financing     6272 non-null   object \n",
      " 10  total_money   805 non-null    float64\n",
      " 11  death_reason  1419 non-null   object \n",
      " 12  invest_name   600 non-null    object \n",
      " 13  ceo_name      4839 non-null   object \n",
      " 14  ceo_des       4838 non-null   object \n",
      " 15  ceo_per_des   4839 non-null   object \n",
      "dtypes: float64(1), int64(2), object(13)\n",
      "memory usage: 784.1+ KB\n"
     ]
    }
   ],
   "source": [
    "data.info()"
   ]
  },
  {
   "cell_type": "markdown",
   "id": "996dbcf4-8b1b-4e67-a975-643cc1793e84",
   "metadata": {},
   "source": [
    "| 序号 |表头          |含义        |\n",
    "| -----| -----:      | :----:     |\n",
    "|0     |bianh        |编号        |\n",
    "|1     |com_name     |公司名称     |\n",
    "|2     |com_addr     |公司地址     | \n",
    "|3     |cat          |类别         |\n",
    "|4     |se_cat       |细类         |\n",
    "|5     |com_des      |公司简述     |\n",
    "|6     |born_data    |创立日期     |\n",
    "|7     |death_data   |倒闭日期     |\n",
    "|8     |live_days    |存活时间（天）|\n",
    "|9     |financing    |是否有投资    |\n",
    "|10    |total_money  |总营业金额    |\n",
    "|11    |death_reason |倒闭原因      |\n",
    "|12    |invest_name  |投资公司名    |\n",
    "|13    |ceo_name     |公司拥有者名字|\n",
    "|14    |ceo_des      |公司拥有者职称|\n",
    "|15    |ceo_per_des  |公司拥有者简述|"
   ]
  },
  {
   "cell_type": "markdown",
   "id": "950c517e-87e6-4831-93c9-ab756cfc8378",
   "metadata": {},
   "source": [
    "简单分析所有表头，有价值的有公司类别、是否有投资、总营业金额、倒闭原因等"
   ]
  },
  {
   "cell_type": "code",
   "execution_count": 5,
   "id": "2282d80d-a2f9-4e39-806e-095d47707f23",
   "metadata": {},
   "outputs": [
    {
     "data": {
      "text/plain": [
       "bianh              0\n",
       "com_name           0\n",
       "com_addr           0\n",
       "cat                0\n",
       "se_cat             1\n",
       "com_des            1\n",
       "born_data          0\n",
       "death_data         0\n",
       "live_days          0\n",
       "financing          0\n",
       "total_money     5467\n",
       "death_reason    4853\n",
       "invest_name     5672\n",
       "ceo_name        1433\n",
       "ceo_des         1434\n",
       "ceo_per_des     1433\n",
       "dtype: int64"
      ]
     },
     "execution_count": 5,
     "metadata": {},
     "output_type": "execute_result"
    }
   ],
   "source": [
    "data.isnull().sum()"
   ]
  },
  {
   "cell_type": "markdown",
   "id": "be5ba8d4-27bd-4355-b224-1f7cdbd87244",
   "metadata": {},
   "source": [
    "可以看到表中有许多确实值，因此对于投资人、倒闭原因等分析通过词云来进行整合"
   ]
  },
  {
   "cell_type": "markdown",
   "id": "4ecaedc6-d558-4ff8-858d-66771f1dd6bd",
   "metadata": {},
   "source": [
    "## **数据分析可视化**"
   ]
  },
  {
   "cell_type": "markdown",
   "id": "6ac4fd1c-802e-4048-8956-5124abdf41c5",
   "metadata": {},
   "source": [
    "### **倒闭公司的地区分布**"
   ]
  },
  {
   "cell_type": "code",
   "execution_count": 6,
   "id": "1fec24cd-6d2f-4986-a663-098c65f26beb",
   "metadata": {},
   "outputs": [
    {
     "data": {
      "text/html": [
       "\n",
       "        <iframe\n",
       "            width=\"800\"\n",
       "            height=\"600\"\n",
       "            src=\"./regional_distribution.html\"\n",
       "            frameborder=\"0\"\n",
       "            allowfullscreen\n",
       "            \n",
       "        ></iframe>\n",
       "        "
      ],
      "text/plain": [
       "<IPython.lib.display.IFrame at 0x27f72782d50>"
      ]
     },
     "execution_count": 6,
     "metadata": {},
     "output_type": "execute_result"
    }
   ],
   "source": [
    "data['com_addr'] = data['com_addr'].apply(lambda x: x.strip())\n",
    "s = data.groupby('com_addr').size()\n",
    "\n",
    "c = (\n",
    "    Map()\n",
    "    .add(\"倒闭企业数量\", [*s.items()], \"china\")\n",
    "    .set_global_opts(\n",
    "        title_opts=opts.TitleOpts(title=\"地区分布\"),\n",
    "        visualmap_opts=opts.VisualMapOpts(max_=200),\n",
    "    )\n",
    ")\n",
    "\n",
    "\n",
    "c.render(\"regional_distribution.html\")\n",
    "\n",
    "IFrame(src=\"./regional_distribution.html\", width=800, height=600)"
   ]
  },
  {
   "cell_type": "markdown",
   "id": "bbe07fd9-b2f0-4ef9-8cd6-149f909c898d",
   "metadata": {},
   "source": [
    "### **行业排行TOP10**"
   ]
  },
  {
   "cell_type": "code",
   "execution_count": 7,
   "id": "641a5bff-4266-4c2c-bce6-e3976483a3f5",
   "metadata": {},
   "outputs": [
    {
     "data": {
      "text/html": [
       "\n",
       "        <iframe\n",
       "            width=\"1000\"\n",
       "            height=\"600\"\n",
       "            src=\"./industry_ranking.html\"\n",
       "            frameborder=\"0\"\n",
       "            allowfullscreen\n",
       "            \n",
       "        ></iframe>\n",
       "        "
      ],
      "text/plain": [
       "<IPython.lib.display.IFrame at 0x27f71078d10>"
      ]
     },
     "execution_count": 7,
     "metadata": {},
     "output_type": "execute_result"
    }
   ],
   "source": [
    "s = data.groupby('cat').size().sort_values(ascending=False)[:10].to_dict()\n",
    "\n",
    "c = (\n",
    "    Bar()\n",
    "    .add_xaxis(list(s.keys()))\n",
    "    .add_yaxis(\"倒闭企业数量\", list(s.values()))\n",
    "    .set_global_opts(title_opts=opts.TitleOpts(title=\"行业排行TOP10\"))\n",
    ")\n",
    "c.render(\"industry_ranking.html\")\n",
    "\n",
    "IFrame(src=\"./industry_ranking.html\", width=1000, height=600)"
   ]
  },
  {
   "cell_type": "markdown",
   "id": "f6e14485-402c-4d45-aa2f-9d44369bd493",
   "metadata": {},
   "source": [
    "### **行业细类TOP20**"
   ]
  },
  {
   "cell_type": "code",
   "execution_count": 8,
   "id": "641eff48-cbbd-43df-aea9-5626b5b461df",
   "metadata": {},
   "outputs": [
    {
     "data": {
      "text/html": [
       "\n",
       "        <iframe\n",
       "            width=\"1000\"\n",
       "            height=\"600\"\n",
       "            src=\"./industry_refined_ranking.html\"\n",
       "            frameborder=\"0\"\n",
       "            allowfullscreen\n",
       "            \n",
       "        ></iframe>\n",
       "        "
      ],
      "text/plain": [
       "<IPython.lib.display.IFrame at 0x27f73fa1090>"
      ]
     },
     "execution_count": 8,
     "metadata": {},
     "output_type": "execute_result"
    }
   ],
   "source": [
    "s = data.groupby('se_cat').size().sort_values(ascending=False)[:20].sort_values(ascending=True).to_dict()\n",
    "\n",
    "c = (\n",
    "    Bar()\n",
    "    .add_xaxis(list(s.keys()))\n",
    "    .add_yaxis(\"倒闭企业数量\", list(s.values()))\n",
    "    .reversal_axis()\n",
    "    .set_series_opts(label_opts=opts.LabelOpts(position=\"right\"))\n",
    "    .set_global_opts(title_opts=opts.TitleOpts(title=\"细分领域TOP20\"))\n",
    ")\n",
    "\n",
    "c.render(\"industry_refined_ranking.html\")\n",
    "\n",
    "IFrame(src=\"./industry_refined_ranking.html\", width=1000, height=600)"
   ]
  },
  {
   "cell_type": "markdown",
   "id": "095f3c29-1c1b-4675-aa03-f4c8cb4d5f80",
   "metadata": {},
   "source": [
    "### **年份分布**"
   ]
  },
  {
   "cell_type": "code",
   "execution_count": 9,
   "id": "75dbefcb-8729-4355-970d-c55c184dc979",
   "metadata": {},
   "outputs": [
    {
     "data": {
      "text/html": [
       "\n",
       "        <iframe\n",
       "            width=\"1000\"\n",
       "            height=\"600\"\n",
       "            src=\"./year_distribution.html\"\n",
       "            frameborder=\"0\"\n",
       "            allowfullscreen\n",
       "            \n",
       "        ></iframe>\n",
       "        "
      ],
      "text/plain": [
       "<IPython.lib.display.IFrame at 0x27f6e725e90>"
      ]
     },
     "execution_count": 9,
     "metadata": {},
     "output_type": "execute_result"
    }
   ],
   "source": [
    "data['born_year'] = data['born_data'].apply(lambda x: x[:4])\n",
    "data['death_year'] = data['death_data'].apply(lambda x: x[:4])\n",
    "s1 = data.groupby('born_year').size()\n",
    "s2 = data.groupby('death_year').size()\n",
    "s1 = pd.DataFrame({'year': s1.index, 'born': s1.values})\n",
    "s2 = pd.DataFrame({'year': s2.index, 'death': s2.values})\n",
    "s = pd.merge(s1,s2, on='year', suffixes=['born', 'death'])\n",
    "s = s[s['year'] > '2008']\n",
    "\n",
    "c = (\n",
    "    Bar()\n",
    "    .add_xaxis( s['year'].to_list())\n",
    "    .add_yaxis(\"新生企业数量\", s['born'].to_list())\n",
    "    .add_yaxis(\"倒闭企业数量\", s['death'].to_list())\n",
    "    .set_global_opts(title_opts=opts.TitleOpts(title=\"年份分布\"))\n",
    ")\n",
    "\n",
    "c.render(\"year_distribution.html\")\n",
    "\n",
    "IFrame(src=\"./year_distribution.html\", width=1000, height=600)"
   ]
  },
  {
   "cell_type": "markdown",
   "id": "a49357fa-f38c-4ddf-9b49-3821a30d5be9",
   "metadata": {},
   "source": [
    "### **企业存活时间**"
   ]
  },
  {
   "cell_type": "code",
   "execution_count": 10,
   "id": "ae234ebe-9a75-4eb2-bb52-506d4d015e16",
   "metadata": {},
   "outputs": [
    {
     "name": "stdout",
     "output_type": "stream",
     "text": [
      "[('1-2年', 644), ('10年以上', 60), ('2-3年', 2242), ('3-4年', 1108), ('4-5年', 954), ('5-10年', 1219), ('不到1年', 45)]\n"
     ]
    },
    {
     "data": {
      "text/html": [
       "\n",
       "        <iframe\n",
       "            width=\"800\"\n",
       "            height=\"600\"\n",
       "            src=\"./survival_time.html\"\n",
       "            frameborder=\"0\"\n",
       "            allowfullscreen\n",
       "            \n",
       "        ></iframe>\n",
       "        "
      ],
      "text/plain": [
       "<IPython.lib.display.IFrame at 0x27f6defb010>"
      ]
     },
     "execution_count": 10,
     "metadata": {},
     "output_type": "execute_result"
    }
   ],
   "source": [
    "def live_year(x):\n",
    "    if x < 365:\n",
    "        return '不到1年'\n",
    "    if x < 365 * 2:\n",
    "        return '1-2年'\n",
    "    if x < 365 * 3:\n",
    "        return '2-3年'\n",
    "    if x < 365 * 4:\n",
    "        return '3-4年'\n",
    "    if x < 365 * 5:\n",
    "        return '4-5年'\n",
    "    if x < 365 * 10:\n",
    "        return '5-10年'\n",
    "    return '10年以上'\n",
    "\n",
    "s = data.groupby(data['live_days'].apply(lambda x: live_year(x))).size()\n",
    "\n",
    "print([*s.items()])\n",
    "\n",
    "c = (\n",
    "    Pie()\n",
    "    .add(\"\", [*s.items()])\n",
    "    .set_global_opts(title_opts=opts.TitleOpts(title=\"企业存活时长\"))\n",
    "    .set_series_opts(label_opts=opts.LabelOpts(formatter=\"{b}: {c}\"))\n",
    ")\n",
    "\n",
    "c.render(\"survival_time.html\")\n",
    "\n",
    "IFrame(src=\"./survival_time.html\", width=800, height=600)"
   ]
  },
  {
   "cell_type": "markdown",
   "id": "63beb4b2-5546-4461-95bf-104a193bb39b",
   "metadata": {},
   "source": [
    "### **投资人词云**"
   ]
  },
  {
   "cell_type": "code",
   "execution_count": 11,
   "id": "3de37c70-786e-4d64-98cb-879ac9538c6c",
   "metadata": {},
   "outputs": [
    {
     "data": {
      "text/html": [
       "\n",
       "        <iframe\n",
       "            width=\"800\"\n",
       "            height=\"600\"\n",
       "            src=\"./investor_word_cloud.html\"\n",
       "            frameborder=\"0\"\n",
       "            allowfullscreen\n",
       "            \n",
       "        ></iframe>\n",
       "        "
      ],
      "text/plain": [
       "<IPython.lib.display.IFrame at 0x27f6dfdef50>"
      ]
     },
     "execution_count": 11,
     "metadata": {},
     "output_type": "execute_result"
    }
   ],
   "source": [
    "invest = {}\n",
    "for row in data['invest_name'].values:\n",
    "    if not pd.isnull(row):\n",
    "        for name in row.split('&'):\n",
    "            invest[name] = invest.get(name, 0) + 1\n",
    "invest = [*invest.items()]\n",
    "invest.sort(key=lambda x: x[1], reverse=True)\n",
    "c = (\n",
    "    WordCloud()\n",
    "    .add(\"\", invest[:150], word_size_range=[20, 100], shape=SymbolType.DIAMOND)\n",
    "    .set_global_opts(title_opts=opts.TitleOpts(title=\"投资人词云\"))\n",
    ")\n",
    "\n",
    "c.render(\"investor_word_cloud.html\")\n",
    "\n",
    "IFrame(src=\"./investor_word_cloud.html\", width=800, height=600)"
   ]
  },
  {
   "cell_type": "markdown",
   "id": "80fdacca-aab4-4bba-bb6e-dc39f2fc9fff",
   "metadata": {},
   "source": [
    "### **倒闭原因词云**"
   ]
  },
  {
   "cell_type": "code",
   "execution_count": 12,
   "id": "ef91ab88-8ce6-4758-bc0a-49b346e42416",
   "metadata": {},
   "outputs": [
    {
     "data": {
      "text/html": [
       "\n",
       "        <iframe\n",
       "            width=\"800\"\n",
       "            height=\"600\"\n",
       "            src=\"./closure_reason.html\"\n",
       "            frameborder=\"0\"\n",
       "            allowfullscreen\n",
       "            \n",
       "        ></iframe>\n",
       "        "
      ],
      "text/plain": [
       "<IPython.lib.display.IFrame at 0x27f6e71f350>"
      ]
     },
     "execution_count": 12,
     "metadata": {},
     "output_type": "execute_result"
    }
   ],
   "source": [
    "death_reason = {}\n",
    "for row in data['death_reason'].values:\n",
    "    if not pd.isnull(row):\n",
    "        for name in row.split(' '):\n",
    "            death_reason[name] = death_reason.get(name, 0) + 1\n",
    "c = (\n",
    "    WordCloud()\n",
    "    .add(\"\", [*death_reason.items()], word_size_range=[20, 100], shape=SymbolType.DIAMOND)\n",
    "    .set_global_opts(title_opts=opts.TitleOpts(title=\"倒闭原因词云\"))\n",
    ")\n",
    "\n",
    "c.render(\"closure_reason.html\")\n",
    "\n",
    "IFrame(src=\"./closure_reason.html\", width=800, height=600)"
   ]
  },
  {
   "cell_type": "code",
   "execution_count": 13,
   "id": "33540b72-ff89-4b40-92d2-342d32b426f7",
   "metadata": {},
   "outputs": [
    {
     "data": {
      "text/html": [
       "\n",
       "        <iframe\n",
       "            width=\"1000\"\n",
       "            height=\"600\"\n",
       "            src=\"./reason.html\"\n",
       "            frameborder=\"0\"\n",
       "            allowfullscreen\n",
       "            \n",
       "        ></iframe>\n",
       "        "
      ],
      "text/plain": [
       "<IPython.lib.display.IFrame at 0x27f7423bf90>"
      ]
     },
     "execution_count": 13,
     "metadata": {},
     "output_type": "execute_result"
    }
   ],
   "source": [
    "death_reason = {}\n",
    "for row in data['death_reason'].values:\n",
    "    if not pd.isnull(row):\n",
    "        for name in row.split(' '):\n",
    "            death_reason[name] = death_reason.get(name, 0) + 1\n",
    "\n",
    "c = (\n",
    "    Bar()\n",
    "    .add_xaxis(list(death_reason.keys()))\n",
    "    .add_yaxis(\"因此原因倒闭企业数\", list(death_reason.values()))\n",
    "    .set_global_opts(title_opts=opts.TitleOpts(title=\"倒闭原因\"), xaxis_opts=opts.AxisOpts(name_rotate=60,axislabel_opts={\"rotate\":45}))\n",
    ")\n",
    "c.render(\"reason.html\")\n",
    "\n",
    "IFrame(src=\"./reason.html\", width=1000, height=600)"
   ]
  },
  {
   "cell_type": "code",
   "execution_count": 14,
   "id": "39c8a246-e7ae-4276-9447-e4b16cd57d55",
   "metadata": {
    "scrolled": true
   },
   "outputs": [
    {
     "data": {
      "text/html": [
       "<div>\n",
       "<style scoped>\n",
       "    .dataframe tbody tr th:only-of-type {\n",
       "        vertical-align: middle;\n",
       "    }\n",
       "\n",
       "    .dataframe tbody tr th {\n",
       "        vertical-align: top;\n",
       "    }\n",
       "\n",
       "    .dataframe thead th {\n",
       "        text-align: right;\n",
       "    }\n",
       "</style>\n",
       "<table border=\"1\" class=\"dataframe\">\n",
       "  <thead>\n",
       "    <tr style=\"text-align: right;\">\n",
       "      <th></th>\n",
       "      <th>bianh</th>\n",
       "      <th>com_name</th>\n",
       "      <th>com_addr</th>\n",
       "      <th>cat</th>\n",
       "      <th>se_cat</th>\n",
       "      <th>com_des</th>\n",
       "      <th>born_data</th>\n",
       "      <th>death_data</th>\n",
       "      <th>live_days</th>\n",
       "      <th>financing</th>\n",
       "      <th>...</th>\n",
       "      <th>death_reason</th>\n",
       "      <th>invest_name</th>\n",
       "      <th>ceo_name</th>\n",
       "      <th>ceo_des</th>\n",
       "      <th>ceo_per_des</th>\n",
       "      <th>Unnamed: 16</th>\n",
       "      <th>Unnamed: 17</th>\n",
       "      <th>Unnamed: 18</th>\n",
       "      <th>Unnamed: 19</th>\n",
       "      <th>Unnamed: 20</th>\n",
       "    </tr>\n",
       "  </thead>\n",
       "  <tbody>\n",
       "    <tr>\n",
       "      <th>0</th>\n",
       "      <td>1</td>\n",
       "      <td>麦子金服</td>\n",
       "      <td>上海</td>\n",
       "      <td>金融</td>\n",
       "      <td>借贷</td>\n",
       "      <td>麦子金服是一家移动互联网金融服务集团，为个人和企业提供包括财富管理、股权投资、投融资咨询等综...</td>\n",
       "      <td>2015-03-01</td>\n",
       "      <td>2019-11-25</td>\n",
       "      <td>1730</td>\n",
       "      <td>B轮</td>\n",
       "      <td>...</td>\n",
       "      <td>政策监管 法律法规风险</td>\n",
       "      <td>海通开元&amp;中缔资本</td>\n",
       "      <td>黄大容</td>\n",
       "      <td>董事长</td>\n",
       "      <td>黄大容，80后，经济学硕士，精通中英德三国语言。连续创业者，23岁创立第一家公司，25岁涉足...</td>\n",
       "      <td>NaN</td>\n",
       "      <td>NaN</td>\n",
       "      <td>NaN</td>\n",
       "      <td>NaN</td>\n",
       "      <td>NaN</td>\n",
       "    </tr>\n",
       "    <tr>\n",
       "      <th>1</th>\n",
       "      <td>1</td>\n",
       "      <td>拓道金服</td>\n",
       "      <td>浙江</td>\n",
       "      <td>金融</td>\n",
       "      <td>借贷</td>\n",
       "      <td>拓道金服是一家专注于汽车抵押贷款这一细分市场的P2P互联网金融公司。拓道金服通过互联网民间的...</td>\n",
       "      <td>2013-11-01</td>\n",
       "      <td>2019-11-24</td>\n",
       "      <td>2214</td>\n",
       "      <td>A轮</td>\n",
       "      <td>...</td>\n",
       "      <td>政策监管 法律法规风险</td>\n",
       "      <td>蓝山中国资本&amp;帮实资本&amp;宏桥资本</td>\n",
       "      <td>张罗军</td>\n",
       "      <td>创始人</td>\n",
       "      <td>杭州拓道科技有限公司执行董事兼总经理，重庆邮电学院计算机专业，创立杭州仁润科技有限公司，具有...</td>\n",
       "      <td>NaN</td>\n",
       "      <td>NaN</td>\n",
       "      <td>NaN</td>\n",
       "      <td>NaN</td>\n",
       "      <td>NaN</td>\n",
       "    </tr>\n",
       "    <tr>\n",
       "      <th>2</th>\n",
       "      <td>1</td>\n",
       "      <td>云柏科技</td>\n",
       "      <td>广东</td>\n",
       "      <td>医疗健康</td>\n",
       "      <td>医疗器械及硬件</td>\n",
       "      <td>云柏科技是一家智能健康检测腕表研发商，专注于智能可穿戴设备领域。主要产品包括可穿戴式多功能云...</td>\n",
       "      <td>2014-09-01</td>\n",
       "      <td>2019-11-01</td>\n",
       "      <td>1887</td>\n",
       "      <td>尚未获投</td>\n",
       "      <td>...</td>\n",
       "      <td>行业竞争</td>\n",
       "      <td>NaN</td>\n",
       "      <td>NaN</td>\n",
       "      <td>NaN</td>\n",
       "      <td>NaN</td>\n",
       "      <td>NaN</td>\n",
       "      <td>NaN</td>\n",
       "      <td>NaN</td>\n",
       "      <td>NaN</td>\n",
       "      <td>NaN</td>\n",
       "    </tr>\n",
       "    <tr>\n",
       "      <th>3</th>\n",
       "      <td>1</td>\n",
       "      <td>迷你生鲜</td>\n",
       "      <td>福建</td>\n",
       "      <td>电子商务</td>\n",
       "      <td>生鲜食品</td>\n",
       "      <td>迷你生鲜是一家会员制水果生鲜电商网站，平台产品由基地直供，采购深入全国及东南亚各地区，减少中...</td>\n",
       "      <td>2017-11-01</td>\n",
       "      <td>2019-10-29</td>\n",
       "      <td>727</td>\n",
       "      <td>尚未获投</td>\n",
       "      <td>...</td>\n",
       "      <td>现金流断裂 行业竞争</td>\n",
       "      <td>NaN</td>\n",
       "      <td>NaN</td>\n",
       "      <td>NaN</td>\n",
       "      <td>NaN</td>\n",
       "      <td>NaN</td>\n",
       "      <td>NaN</td>\n",
       "      <td>NaN</td>\n",
       "      <td>NaN</td>\n",
       "      <td>NaN</td>\n",
       "    </tr>\n",
       "    <tr>\n",
       "      <th>4</th>\n",
       "      <td>1</td>\n",
       "      <td>一生健康</td>\n",
       "      <td>北京</td>\n",
       "      <td>医疗健康</td>\n",
       "      <td>寻医诊疗</td>\n",
       "      <td>微爱康一款基于移动互联网的癌症患者互助型垂直社区产品，通过在线社会化问答和类轻博客交流模式，...</td>\n",
       "      <td>2015-01-01</td>\n",
       "      <td>2019-10-17</td>\n",
       "      <td>1750</td>\n",
       "      <td>尚未获投</td>\n",
       "      <td>...</td>\n",
       "      <td>政策监管 法律法规风险</td>\n",
       "      <td>NaN</td>\n",
       "      <td>张耀斌</td>\n",
       "      <td>CEO</td>\n",
       "      <td>张耀斌，为一生（北京）健康科技有限公司的创始人。</td>\n",
       "      <td>NaN</td>\n",
       "      <td>NaN</td>\n",
       "      <td>NaN</td>\n",
       "      <td>NaN</td>\n",
       "      <td>NaN</td>\n",
       "    </tr>\n",
       "  </tbody>\n",
       "</table>\n",
       "<p>5 rows × 21 columns</p>\n",
       "</div>"
      ],
      "text/plain": [
       "   bianh com_name com_addr   cat   se_cat  \\\n",
       "0      1     麦子金服       上海    金融       借贷   \n",
       "1      1     拓道金服       浙江    金融       借贷   \n",
       "2      1     云柏科技       广东  医疗健康  医疗器械及硬件   \n",
       "3      1     迷你生鲜       福建  电子商务     生鲜食品   \n",
       "4      1     一生健康       北京  医疗健康     寻医诊疗   \n",
       "\n",
       "                                             com_des   born_data  death_data  \\\n",
       "0  麦子金服是一家移动互联网金融服务集团，为个人和企业提供包括财富管理、股权投资、投融资咨询等综...  2015-03-01  2019-11-25   \n",
       "1  拓道金服是一家专注于汽车抵押贷款这一细分市场的P2P互联网金融公司。拓道金服通过互联网民间的...  2013-11-01  2019-11-24   \n",
       "2  云柏科技是一家智能健康检测腕表研发商，专注于智能可穿戴设备领域。主要产品包括可穿戴式多功能云...  2014-09-01  2019-11-01   \n",
       "3  迷你生鲜是一家会员制水果生鲜电商网站，平台产品由基地直供，采购深入全国及东南亚各地区，减少中...  2017-11-01  2019-10-29   \n",
       "4  微爱康一款基于移动互联网的癌症患者互助型垂直社区产品，通过在线社会化问答和类轻博客交流模式，...  2015-01-01  2019-10-17   \n",
       "\n",
       "   live_days financing  ...  death_reason       invest_name ceo_name ceo_des  \\\n",
       "0       1730        B轮  ...   政策监管 法律法规风险         海通开元&中缔资本      黄大容     董事长   \n",
       "1       2214        A轮  ...   政策监管 法律法规风险  蓝山中国资本&帮实资本&宏桥资本      张罗军     创始人   \n",
       "2       1887      尚未获投  ...          行业竞争               NaN      NaN     NaN   \n",
       "3        727      尚未获投  ...    现金流断裂 行业竞争               NaN      NaN     NaN   \n",
       "4       1750      尚未获投  ...   政策监管 法律法规风险               NaN      张耀斌     CEO   \n",
       "\n",
       "                                         ceo_per_des Unnamed: 16  Unnamed: 17  \\\n",
       "0  黄大容，80后，经济学硕士，精通中英德三国语言。连续创业者，23岁创立第一家公司，25岁涉足...         NaN          NaN   \n",
       "1  杭州拓道科技有限公司执行董事兼总经理，重庆邮电学院计算机专业，创立杭州仁润科技有限公司，具有...         NaN          NaN   \n",
       "2                                                NaN         NaN          NaN   \n",
       "3                                                NaN         NaN          NaN   \n",
       "4                           张耀斌，为一生（北京）健康科技有限公司的创始人。         NaN          NaN   \n",
       "\n",
       "   Unnamed: 18  Unnamed: 19  Unnamed: 20  \n",
       "0          NaN          NaN          NaN  \n",
       "1          NaN          NaN          NaN  \n",
       "2          NaN          NaN          NaN  \n",
       "3          NaN          NaN          NaN  \n",
       "4          NaN          NaN          NaN  \n",
       "\n",
       "[5 rows x 21 columns]"
      ]
     },
     "execution_count": 14,
     "metadata": {},
     "output_type": "execute_result"
    }
   ],
   "source": [
    "data = pd.read_csv('com.csv')\n",
    "data.head()"
   ]
  },
  {
   "cell_type": "code",
   "execution_count": 15,
   "id": "7664237c-8af8-4e0b-b328-cb0c7b455dfb",
   "metadata": {},
   "outputs": [
    {
     "data": {
      "text/plain": [
       "bianh              0\n",
       "com_name           0\n",
       "com_addr           0\n",
       "cat                0\n",
       "se_cat             1\n",
       "com_des            1\n",
       "born_data          0\n",
       "death_data         0\n",
       "live_days          0\n",
       "financing          0\n",
       "total_money     5467\n",
       "death_reason    4853\n",
       "invest_name     5672\n",
       "ceo_name        1433\n",
       "ceo_des         1434\n",
       "ceo_per_des     1433\n",
       "Unnamed: 16     6272\n",
       "Unnamed: 17     6272\n",
       "Unnamed: 18     6272\n",
       "Unnamed: 19     6272\n",
       "Unnamed: 20     6272\n",
       "dtype: int64"
      ]
     },
     "execution_count": 15,
     "metadata": {},
     "output_type": "execute_result"
    }
   ],
   "source": [
    "data.isnull().sum()"
   ]
  },
  {
   "cell_type": "code",
   "execution_count": 16,
   "id": "89f46eab-3ac0-4fb0-98db-afc277c2971c",
   "metadata": {},
   "outputs": [
    {
     "data": {
      "text/plain": [
       "0"
      ]
     },
     "execution_count": 16,
     "metadata": {},
     "output_type": "execute_result"
    }
   ],
   "source": [
    "data.duplicated().sum()"
   ]
  },
  {
   "cell_type": "code",
   "execution_count": null,
   "id": "16110156-a572-412a-a4d9-f2f275e8ba76",
   "metadata": {},
   "outputs": [],
   "source": []
  }
 ],
 "metadata": {
  "kernelspec": {
   "display_name": "Python 3 (ipykernel)",
   "language": "python",
   "name": "python3"
  },
  "language_info": {
   "codemirror_mode": {
    "name": "ipython",
    "version": 3
   },
   "file_extension": ".py",
   "mimetype": "text/x-python",
   "name": "python",
   "nbconvert_exporter": "python",
   "pygments_lexer": "ipython3",
   "version": "3.11.7"
  }
 },
 "nbformat": 4,
 "nbformat_minor": 5
}
